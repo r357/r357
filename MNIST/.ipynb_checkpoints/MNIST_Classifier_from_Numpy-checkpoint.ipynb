{
 "cells": [
  {
   "cell_type": "markdown",
   "metadata": {
    "id": "hRCBF0dwHxkV"
   },
   "source": [
    "# MNIST Classifier from scratch\n",
    "Without Tensorflow. \n",
    "https://www.youtube.com/watch?v=JRlyw6LO5qo\n",
    "\n",
    "## Checkpoints:\n"
   ]
  },
  {
   "cell_type": "code",
   "execution_count": 5,
   "metadata": {
    "colab": {
     "base_uri": "https://localhost:8080/",
     "height": 1000
    },
    "id": "Db8iLVvseYZN",
    "outputId": "60b09322-5d88-43ce-901a-6db970f8a759",
    "scrolled": true
   },
   "outputs": [
    {
     "name": "stdout",
     "output_type": "stream",
     "text": [
      "/usr/local/bin:/usr/bin:/bin:/usr/sbin:/sbin:/Library/TeX/texbin:/opt/X11/bin\r\n"
     ]
    }
   ],
   "source": [
    "!echo $PATH"
   ]
  },
  {
   "cell_type": "code",
   "execution_count": 6,
   "metadata": {
    "colab": {
     "base_uri": "https://localhost:8080/",
     "height": 426
    },
    "id": "ZXsE1J3XHp-0",
    "outputId": "a5bf7ba4-ea24-4606-e60f-47a8f5d9c34d"
   },
   "outputs": [
    {
     "name": "stdout",
     "output_type": "stream",
     "text": [
      "Populating the interactive namespace from numpy and matplotlib\n"
     ]
    }
   ],
   "source": [
    "%pylab inline\n",
    "import numpy as np\n",
    "import tensorflow as tf\n",
    "from tqdm import trange\n",
    "\n",
    "(x_train, y_train), (x_test, y_test) = tf.keras.datasets.mnist.load_data()"
   ]
  },
  {
   "cell_type": "code",
   "execution_count": 7,
   "metadata": {
    "colab": {
     "base_uri": "https://localhost:8080/",
     "height": 282
    },
    "id": "kmMJldwxH-bp",
    "outputId": "8bb8afac-535d-4138-b27f-5ec12bc63ec4"
   },
   "outputs": [
    {
     "data": {
      "text/plain": [
       "(<matplotlib.image.AxesImage at 0x1401f3f70>, 5)"
      ]
     },
     "execution_count": 7,
     "metadata": {},
     "output_type": "execute_result"
    },
    {
     "data": {
      "image/png": "[encoded data removed]",
      "text/plain": [
       "<Figure size 432x288 with 1 Axes>"
      ]
     },
     "metadata": {
      "needs_background": "light"
     },
     "output_type": "display_data"
    }
   ],
   "source": [
    "# Show example (first entry) \n",
    "imshow(x_train[0]), y_train[0]"
   ]
  },
  {
   "cell_type": "code",
   "execution_count": 8,
   "metadata": {
    "id": "Dvyzuuq5KlRS"
   },
   "outputs": [],
   "source": [
    "import torch\n",
    "import torch.nn as nn\n",
    "\n",
    "class BobNet(torch.nn.Module):\n",
    "    def __init__(self):\n",
    "        super(BobNet, self).__init__()\n",
    "        self.l1 = nn.Linear(784, 128)\n",
    "        self.act = nn.ReLU()\n",
    "        self.l2 = nn.Linear(128, 10)\n",
    "\n",
    "    def forward(self, x):\n",
    "        x = self.l1(x)\n",
    "        x = self.act(x)\n",
    "        x = self.l2(x)\n",
    "        return x\n",
    "\n",
    "model = BobNet()"
   ]
  },
  {
   "cell_type": "code",
   "execution_count": 9,
   "metadata": {
    "colab": {
     "base_uri": "https://localhost:8080/",
     "height": 130
    },
    "id": "zbOobo5TLSpy",
    "outputId": "c756f685-1b78-4f00-8505-7554eba1c018"
   },
   "outputs": [
    {
     "name": "stderr",
     "output_type": "stream",
     "text": [
      "100%|██████████| 100/100 [00:00<00:00, 457.04it/s]"
     ]
    },
    {
     "name": "stdout",
     "output_type": "stream",
     "text": [
      "tensor(36.5230, grad_fn=<NllLossBackward>)\n",
      "tensor(18.9470, grad_fn=<NllLossBackward>)\n",
      "tensor(21.3445, grad_fn=<NllLossBackward>)\n",
      "tensor(28.3731, grad_fn=<NllLossBackward>)\n",
      "tensor(40.8719, grad_fn=<NllLossBackward>)\n",
      "tensor(29.6022, grad_fn=<NllLossBackward>)\n",
      "tensor(21.7225, grad_fn=<NllLossBackward>)\n",
      "tensor(16.4613, grad_fn=<NllLossBackward>)\n",
      "tensor(25.8674, grad_fn=<NllLossBackward>)\n",
      "tensor(30.7354, grad_fn=<NllLossBackward>)\n",
      "tensor(28.9419, grad_fn=<NllLossBackward>)\n",
      "tensor(40.4467, grad_fn=<NllLossBackward>)\n",
      "tensor(47.2341, grad_fn=<NllLossBackward>)\n",
      "tensor(42.5820, grad_fn=<NllLossBackward>)\n",
      "tensor(20.9905, grad_fn=<NllLossBackward>)\n",
      "tensor(30.3838, grad_fn=<NllLossBackward>)\n",
      "tensor(31.4662, grad_fn=<NllLossBackward>)\n",
      "tensor(16.1735, grad_fn=<NllLossBackward>)\n",
      "tensor(15.3471, grad_fn=<NllLossBackward>)\n",
      "tensor(34.1638, grad_fn=<NllLossBackward>)\n",
      "tensor(18.8906, grad_fn=<NllLossBackward>)\n",
      "tensor(22.6968, grad_fn=<NllLossBackward>)\n",
      "tensor(32.8505, grad_fn=<NllLossBackward>)\n",
      "tensor(36.8288, grad_fn=<NllLossBackward>)\n",
      "tensor(29.2585, grad_fn=<NllLossBackward>)\n",
      "tensor(37.8731, grad_fn=<NllLossBackward>)\n",
      "tensor(35.9301, grad_fn=<NllLossBackward>)\n",
      "tensor(29.3920, grad_fn=<NllLossBackward>)\n",
      "tensor(42.4230, grad_fn=<NllLossBackward>)\n",
      "tensor(49.6181, grad_fn=<NllLossBackward>)\n",
      "tensor(43.1374, grad_fn=<NllLossBackward>)\n",
      "tensor(22.7707, grad_fn=<NllLossBackward>)\n",
      "tensor(35.1353, grad_fn=<NllLossBackward>)\n",
      "tensor(35.9543, grad_fn=<NllLossBackward>)\n",
      "tensor(31.4010, grad_fn=<NllLossBackward>)\n",
      "tensor(37.2570, grad_fn=<NllLossBackward>)\n",
      "tensor(41.7577, grad_fn=<NllLossBackward>)\n",
      "tensor(33.2037, grad_fn=<NllLossBackward>)\n",
      "tensor(31.4472, grad_fn=<NllLossBackward>)\n",
      "tensor(29.0749, grad_fn=<NllLossBackward>)\n",
      "tensor(30.1995, grad_fn=<NllLossBackward>)\n",
      "tensor(31.8477, grad_fn=<NllLossBackward>)\n",
      "tensor(20.0197, grad_fn=<NllLossBackward>)\n",
      "tensor(50.0687, grad_fn=<NllLossBackward>)\n",
      "tensor(31.1868, grad_fn=<NllLossBackward>)\n",
      "tensor(39.9467, grad_fn=<NllLossBackward>)\n",
      "tensor(35.4115, grad_fn=<NllLossBackward>)\n",
      "tensor(46.6865, grad_fn=<NllLossBackward>)\n",
      "tensor(41.9731, grad_fn=<NllLossBackward>)\n",
      "tensor(23.0162, grad_fn=<NllLossBackward>)\n",
      "tensor(31.5951, grad_fn=<NllLossBackward>)\n",
      "tensor(33.6960, grad_fn=<NllLossBackward>)\n",
      "tensor(22.9501, grad_fn=<NllLossBackward>)\n",
      "tensor(18.1636, grad_fn=<NllLossBackward>)\n",
      "tensor(27.3487, grad_fn=<NllLossBackward>)\n",
      "tensor(29.2505, grad_fn=<NllLossBackward>)\n",
      "tensor(27.9269, grad_fn=<NllLossBackward>)\n",
      "tensor(24.2547, grad_fn=<NllLossBackward>)\n",
      "tensor(38.2605, grad_fn=<NllLossBackward>)\n",
      "tensor(27.6462, grad_fn=<NllLossBackward>)\n",
      "tensor(22.1510, grad_fn=<NllLossBackward>)\n",
      "tensor(21.9958, grad_fn=<NllLossBackward>)\n",
      "tensor(35.7842, grad_fn=<NllLossBackward>)\n",
      "tensor(18.5187, grad_fn=<NllLossBackward>)\n",
      "tensor(23.0730, grad_fn=<NllLossBackward>)\n",
      "tensor(11.3967, grad_fn=<NllLossBackward>)\n",
      "tensor(21.5561, grad_fn=<NllLossBackward>)\n",
      "tensor(13.2026, grad_fn=<NllLossBackward>)\n",
      "tensor(24.7160, grad_fn=<NllLossBackward>)\n",
      "tensor(21.6290, grad_fn=<NllLossBackward>)\n",
      "tensor(21.0265, grad_fn=<NllLossBackward>)\n",
      "tensor(30.6059, grad_fn=<NllLossBackward>)\n",
      "tensor(29.5347, grad_fn=<NllLossBackward>)\n",
      "tensor(46.9601, grad_fn=<NllLossBackward>)\n",
      "tensor(35.2827, grad_fn=<NllLossBackward>)\n",
      "tensor(43.8449, grad_fn=<NllLossBackward>)\n",
      "tensor(62.3508, grad_fn=<NllLossBackward>)\n",
      "tensor(52.6107, grad_fn=<NllLossBackward>)\n",
      "tensor(63.4119, grad_fn=<NllLossBackward>)\n",
      "tensor(42.8116, grad_fn=<NllLossBackward>)\n",
      "tensor(49.2907, grad_fn=<NllLossBackward>)\n",
      "tensor(53.5843, grad_fn=<NllLossBackward>)\n",
      "tensor(53.9388, grad_fn=<NllLossBackward>)\n",
      "tensor(50.6351, grad_fn=<NllLossBackward>)\n",
      "tensor(70.1745, grad_fn=<NllLossBackward>)\n",
      "tensor(61.6228, grad_fn=<NllLossBackward>)\n",
      "tensor(45.9143, grad_fn=<NllLossBackward>)\n",
      "tensor(23.2448, grad_fn=<NllLossBackward>)\n",
      "tensor(45.7703, grad_fn=<NllLossBackward>)\n",
      "tensor(24.4170, grad_fn=<NllLossBackward>)\n",
      "tensor(64.9968, grad_fn=<NllLossBackward>)\n",
      "tensor(31.1725, grad_fn=<NllLossBackward>)\n",
      "tensor(37.7075, grad_fn=<NllLossBackward>)\n",
      "tensor(24.9532, grad_fn=<NllLossBackward>)\n",
      "tensor(42.2509, grad_fn=<NllLossBackward>)\n",
      "tensor(17.6374, grad_fn=<NllLossBackward>)\n",
      "tensor(27.6679, grad_fn=<NllLossBackward>)\n",
      "tensor(16.1676, grad_fn=<NllLossBackward>)\n",
      "tensor(20.7088, grad_fn=<NllLossBackward>)\n",
      "tensor(26.2194, grad_fn=<NllLossBackward>)\n"
     ]
    },
    {
     "name": "stderr",
     "output_type": "stream",
     "text": [
      "\n"
     ]
    }
   ],
   "source": [
    "BS = 32\n",
    "loss_function = nn.CrossEntropyLoss()\n",
    "optim = torch.optim.Adam(model.parameters())\n",
    "for i in (t := trange(100)):\n",
    "    sample = np.random.randint(0, x_train.shape[0], size = (BS))\n",
    "    X = torch.tensor(x_train[sample].reshape((-1, 28*28))).float()\n",
    "    Y = torch.tensor(y_train[sample]).long()\n",
    "    out = model(X)\n",
    "    loss = loss_function(out, Y)\n",
    "    loss.backward()\n",
    "    optim.step()\n",
    "    print(loss)"
   ]
  },
  {
   "cell_type": "code",
   "execution_count": null,
   "metadata": {
    "id": "ZFmuwnlFMHps"
   },
   "outputs": [],
   "source": []
  }
 ],
 "metadata": {
  "accelerator": "GPU",
  "colab": {
   "collapsed_sections": [],
   "name": "MNIST Classifier from Numpy.ipynb",
   "provenance": []
  },
  "kernelspec": {
   "display_name": "Python 3",
   "language": "python",
   "name": "python3"
  },
  "language_info": {
   "codemirror_mode": {
    "name": "ipython",
    "version": 3
   },
   "file_extension": ".py",
   "mimetype": "text/x-python",
   "name": "python",
   "nbconvert_exporter": "python",
   "pygments_lexer": "ipython3",
   "version": "3.8.5"
  }
 },
 "nbformat": 4,
 "nbformat_minor": 1
}
